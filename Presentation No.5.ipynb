{
 "cells": [
  {
   "cell_type": "markdown",
   "metadata": {},
   "source": [
    "# Python Loops\n",
    "\n",
    "Python has two primitive loop commands:\n",
    "\n",
    "    while loops\n",
    "    for loops\n",
    "\n"
   ]
  },
  {
   "cell_type": "markdown",
   "metadata": {},
   "source": [
    "## While loops \n",
    "- In Python, While Loops is used to execute a block of statements repeatedly until a given condition is satisfied. \n",
    "  And when the condition becomes false, the line immediately after the loop in the program is executed. \n",
    "  While loop falls under the category of indefinite iteration. Indefinite iteration means that the number of times \n",
    "  the loop is executed isn’t specified explicitly in advance.\n",
    "  \n",
    "- With the while loop we can execute a set of statements as long as a condition is true."
   ]
  },
  {
   "cell_type": "code",
   "execution_count": null,
   "metadata": {},
   "outputs": [],
   "source": [
    "\"\"\"\n",
    "syntax\n",
    "\n",
    "while(condition/s):\n",
    "    statement1\n",
    "    statement2\n",
    "    ..........\n",
    "\"\"\""
   ]
  },
  {
   "cell_type": "code",
   "execution_count": 28,
   "metadata": {},
   "outputs": [
    {
     "name": "stdout",
     "output_type": "stream",
     "text": [
      "Hello Gaby\n",
      "Hello Gaby\n",
      "Hello Gaby\n",
      "Hello Gaby\n",
      "Hello Gaby\n"
     ]
    }
   ],
   "source": [
    "print(\"Hello Gaby\") \n",
    "print(\"Hello Gaby\") \n",
    "print(\"Hello Gaby\") \n",
    "print(\"Hello Gaby\") \n",
    "print(\"Hello Gaby\") "
   ]
  },
  {
   "cell_type": "code",
   "execution_count": 32,
   "metadata": {},
   "outputs": [
    {
     "name": "stdout",
     "output_type": "stream",
     "text": [
      "Hello Gaby\n",
      "Hello Gaby\n",
      "Hello Gaby\n",
      "Hello Gaby\n",
      "Hello Gaby\n"
     ]
    }
   ],
   "source": [
    "#example of while \n",
    "count = 1\n",
    "while (count <= 5):      \n",
    "    count +=1 \n",
    "    print(\"Hello Gaby\")  "
   ]
  },
  {
   "cell_type": "code",
   "execution_count": 42,
   "metadata": {},
   "outputs": [
    {
     "name": "stdout",
     "output_type": "stream",
     "text": [
      "Enter the number of your choice:  2\n",
      "2 x 1 = 2\n",
      "2 x 2 = 4\n",
      "2 x 3 = 6\n",
      "2 x 4 = 8\n",
      "2 x 5 = 10\n",
      "2 x 6 = 12\n",
      "2 x 7 = 14\n",
      "2 x 8 = 16\n",
      "2 x 9 = 18\n",
      "2 x 10 = 20\n",
      "2 x 11 = 22\n",
      "2 x 12 = 24\n",
      "2 x 13 = 26\n",
      "2 x 14 = 28\n",
      "2 x 15 = 30\n",
      "2 x 16 = 32\n",
      "2 x 17 = 34\n",
      "2 x 18 = 36\n",
      "2 x 19 = 38\n",
      "2 x 20 = 40\n",
      "2 x 21 = 42\n",
      "2 x 22 = 44\n",
      "2 x 23 = 46\n",
      "2 x 24 = 48\n",
      "2 x 25 = 50\n",
      "2 x 26 = 52\n",
      "2 x 27 = 54\n",
      "2 x 28 = 56\n",
      "2 x 29 = 58\n",
      "2 x 30 = 60\n",
      "2 x 31 = 62\n",
      "2 x 32 = 64\n",
      "2 x 33 = 66\n",
      "2 x 34 = 68\n",
      "2 x 35 = 70\n",
      "2 x 36 = 72\n",
      "2 x 37 = 74\n",
      "2 x 38 = 76\n",
      "2 x 39 = 78\n",
      "2 x 40 = 80\n",
      "2 x 41 = 82\n",
      "2 x 42 = 84\n",
      "2 x 43 = 86\n",
      "2 x 44 = 88\n",
      "2 x 45 = 90\n",
      "2 x 46 = 92\n",
      "2 x 47 = 94\n",
      "2 x 48 = 96\n",
      "2 x 49 = 98\n",
      "2 x 50 = 100\n",
      "2 x 51 = 102\n",
      "2 x 52 = 104\n",
      "2 x 53 = 106\n",
      "2 x 54 = 108\n",
      "2 x 55 = 110\n",
      "2 x 56 = 112\n",
      "2 x 57 = 114\n",
      "2 x 58 = 116\n",
      "2 x 59 = 118\n",
      "2 x 60 = 120\n",
      "2 x 61 = 122\n",
      "2 x 62 = 124\n",
      "2 x 63 = 126\n",
      "2 x 64 = 128\n",
      "2 x 65 = 130\n",
      "2 x 66 = 132\n",
      "2 x 67 = 134\n",
      "2 x 68 = 136\n",
      "2 x 69 = 138\n",
      "2 x 70 = 140\n",
      "2 x 71 = 142\n",
      "2 x 72 = 144\n",
      "2 x 73 = 146\n",
      "2 x 74 = 148\n",
      "2 x 75 = 150\n",
      "2 x 76 = 152\n",
      "2 x 77 = 154\n",
      "2 x 78 = 156\n",
      "2 x 79 = 158\n",
      "2 x 80 = 160\n",
      "2 x 81 = 162\n",
      "2 x 82 = 164\n",
      "2 x 83 = 166\n",
      "2 x 84 = 168\n",
      "2 x 85 = 170\n",
      "2 x 86 = 172\n",
      "2 x 87 = 174\n",
      "2 x 88 = 176\n",
      "2 x 89 = 178\n",
      "2 x 90 = 180\n",
      "2 x 91 = 182\n",
      "2 x 92 = 184\n",
      "2 x 93 = 186\n",
      "2 x 94 = 188\n",
      "2 x 95 = 190\n",
      "2 x 96 = 192\n",
      "2 x 97 = 194\n",
      "2 x 98 = 196\n",
      "2 x 99 = 198\n",
      "2 x 100 = 200\n"
     ]
    }
   ],
   "source": [
    "#example 2 \n",
    "n= int(input(\"Enter the number of your choice:  \"))\n",
    "i = 1\n",
    "while (i < 101) :\n",
    "    print(n,'x',i,'=',n*i)\n",
    "    i = i+1"
   ]
  },
  {
   "cell_type": "markdown",
   "metadata": {},
   "source": [
    "# while - else\n",
    "if you want to know your while loop has finished its execution and you want to do some operations then you can \n",
    "make use of \"else\""
   ]
  },
  {
   "cell_type": "code",
   "execution_count": 34,
   "metadata": {},
   "outputs": [
    {
     "name": "stdout",
     "output_type": "stream",
     "text": [
      "Enter the number of your choice:  5\n",
      "5 x 1 = 5\n",
      "5 x 2 = 10\n",
      "5 x 3 = 15\n",
      "5 x 4 = 20\n",
      "5 x 5 = 25\n",
      "5 x 6 = 30\n",
      "5 x 7 = 35\n",
      "5 x 8 = 40\n",
      "5 x 9 = 45\n",
      "5 x 10 = 50\n",
      "End of while loop\n",
      "your table is printed \n"
     ]
    }
   ],
   "source": [
    "n= int(input(\"Enter the number of your choice:  \"))\n",
    "i = 1\n",
    "while (i < 11) :\n",
    "    print(n,'x',i,'=',n*i)\n",
    "    i = i+1\n",
    "    \n",
    "else:\n",
    "    print(\"End of while loop\")\n",
    "    print (\"your table is printed \")"
   ]
  },
  {
   "cell_type": "markdown",
   "metadata": {},
   "source": [
    "# break\n",
    "break keyword is used to break out of the loop or come out of the loop"
   ]
  },
  {
   "cell_type": "code",
   "execution_count": 35,
   "metadata": {},
   "outputs": [
    {
     "name": "stdout",
     "output_type": "stream",
     "text": [
      "Enter the number of your choice:  8\n",
      "8 x 1 = 8\n",
      "8 x 2 = 16\n",
      "8 x 3 = 24\n",
      "8 x 4 = 32\n"
     ]
    }
   ],
   "source": [
    "n= int(input(\"Enter the number of your choice:  \"))\n",
    "i = 1\n",
    "while (i < 11) :\n",
    "    print(n,'x',i,'=',n*i)\n",
    "    i = i+1\n",
    "    if i == 5:\n",
    "        break\n",
    "    \n",
    "else:\n",
    "    print(\"End of while loop\")\n",
    "    print (\"your table is printed \")"
   ]
  },
  {
   "cell_type": "markdown",
   "metadata": {},
   "source": [
    "# continue\n",
    "continue keyword takes the execution to the begining of the loop. In other word it skips that perticular iteration"
   ]
  },
  {
   "cell_type": "code",
   "execution_count": 36,
   "metadata": {},
   "outputs": [
    {
     "name": "stdout",
     "output_type": "stream",
     "text": [
      "1\n",
      "3\n",
      "5\n",
      "7\n",
      "9\n",
      "11\n"
     ]
    }
   ],
   "source": [
    "# print only odd numbers\n",
    "count = 0\n",
    "while(count<11):\n",
    "    count = count + 1\n",
    "    if(count%2 == 0):\n",
    "        continue\n",
    "    print(count)"
   ]
  },
  {
   "cell_type": "markdown",
   "metadata": {},
   "source": [
    "# For loops\n",
    "- For loops are basically used to loop over a sequence.\n",
    "- Sequence can be anything like strings,Lists,Tuples,Dictionaries,Sets etc\n",
    "- A for loop is used for iterating over a sequence (that is either a list, a tuple, a dictionary, a set, or a string)."
   ]
  },
  {
   "cell_type": "code",
   "execution_count": null,
   "metadata": {},
   "outputs": [],
   "source": [
    "\"\"\"\n",
    "syntax\n",
    "\n",
    "for item in seq:\n",
    "    statements....\n",
    "\"\"\""
   ]
  },
  {
   "cell_type": "code",
   "execution_count": 37,
   "metadata": {},
   "outputs": [
    {
     "name": "stdout",
     "output_type": "stream",
     "text": [
      "apple\n",
      "banana\n",
      "cherry\n"
     ]
    }
   ],
   "source": [
    "#Print each fruit in a fruit list:\n",
    "fruits = [\"apple\", \"banana\", \"cherry\"]\n",
    "for x in fruits:\n",
    "  print(x)                 #The for loop does not require an indexing variable to set beforehand."
   ]
  },
  {
   "cell_type": "code",
   "execution_count": 38,
   "metadata": {},
   "outputs": [
    {
     "name": "stdout",
     "output_type": "stream",
     "text": [
      "b\n",
      "a\n",
      "n\n",
      "a\n",
      "n\n",
      "a\n"
     ]
    }
   ],
   "source": [
    "#Example\n",
    "#Loop through the letters in the word \"banana\":\n",
    "for x in \"banana\":\n",
    "  print(x)                          #Even strings are iterable objects, they contain a sequence of characters:"
   ]
  },
  {
   "cell_type": "code",
   "execution_count": 39,
   "metadata": {},
   "outputs": [
    {
     "name": "stdout",
     "output_type": "stream",
     "text": [
      "Enter the number of your choice:  7\n",
      "7 x 1 = 7\n",
      "7 x 2 = 14\n",
      "7 x 3 = 21\n",
      "7 x 4 = 28\n",
      "7 x 5 = 35\n",
      "7 x 6 = 42\n",
      "7 x 7 = 49\n",
      "7 x 8 = 56\n",
      "7 x 9 = 63\n",
      "7 x 10 = 70\n"
     ]
    }
   ],
   "source": [
    "#table using for loop\n",
    "n= int(input(\"Enter the number of your choice:  \"))\n",
    "for i in range(1,11):\n",
    "    print(n,'x',i,'=',n*i)"
   ]
  },
  {
   "cell_type": "markdown",
   "metadata": {},
   "source": [
    "# For else"
   ]
  },
  {
   "cell_type": "code",
   "execution_count": 40,
   "metadata": {},
   "outputs": [
    {
     "name": "stdout",
     "output_type": "stream",
     "text": [
      "Enter the number of your choice:  4\n",
      "4 x 1 = 4\n",
      "4 x 2 = 8\n",
      "4 x 3 = 12\n",
      "4 x 4 = 16\n",
      "4 x 5 = 20\n",
      "4 x 6 = 24\n",
      "4 x 7 = 28\n",
      "4 x 8 = 32\n",
      "4 x 9 = 36\n",
      "4 x 10 = 40\n",
      "End of while loop\n",
      "your table is printed \n"
     ]
    }
   ],
   "source": [
    "n= int(input(\"Enter the number of your choice:  \"))\n",
    "for i in range(1,11):\n",
    "    print(n,'x',i,'=',n*i)\n",
    "else:\n",
    "    print(\"End of while loop\")\n",
    "    print (\"your table is printed \")"
   ]
  },
  {
   "cell_type": "code",
   "execution_count": null,
   "metadata": {},
   "outputs": [],
   "source": []
  }
 ],
 "metadata": {
  "kernelspec": {
   "display_name": "Python 3",
   "language": "python",
   "name": "python3"
  },
  "language_info": {
   "codemirror_mode": {
    "name": "ipython",
    "version": 3
   },
   "file_extension": ".py",
   "mimetype": "text/x-python",
   "name": "python",
   "nbconvert_exporter": "python",
   "pygments_lexer": "ipython3",
   "version": "3.8.3"
  }
 },
 "nbformat": 4,
 "nbformat_minor": 4
}
