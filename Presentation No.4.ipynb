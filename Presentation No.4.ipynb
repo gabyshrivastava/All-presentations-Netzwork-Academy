{
 "cells": [
  {
   "cell_type": "markdown",
   "metadata": {},
   "source": [
    "# if else and elif "
   ]
  },
  {
   "cell_type": "markdown",
   "metadata": {},
   "source": [
    "What is if...else statement in Python?\n",
    "\n",
    "Decision making is required when we want to execute a code only if a certain condition is satisfied.\n",
    "\n",
    "on the basis of condition we can take decision \n",
    "\n",
    "The if… elif… else statement is used in Python for decision making."
   ]
  },
  {
   "cell_type": "code",
   "execution_count": null,
   "metadata": {},
   "outputs": [],
   "source": [
    "\"\"\"\n",
    "syntax of if\n",
    "\n",
    "if(condition/s):\n",
    "    statement1\n",
    "    statement2\n",
    "    ..........\n",
    "\"\"\"\n",
    "\n",
    "#             if condition :     \n",
    "#(indentation) can be a tab or four spaces --- used for showing that this statement is part of above if condition       \n",
    "\n",
    "#if test expression:\n",
    "#    statement(s)"
   ]
  },
  {
   "cell_type": "code",
   "execution_count": 1,
   "metadata": {},
   "outputs": [
    {
     "name": "stdout",
     "output_type": "stream",
     "text": [
      "3 is a positive number.\n",
      "This is always printed.\n",
      "This is also always printed.\n"
     ]
    }
   ],
   "source": [
    "num = 3\n",
    "if num > 0:\n",
    "    print(num, \"is a positive number.\")\n",
    "print(\"This is always printed.\")\n",
    "\n",
    "num = -1\n",
    "if num > 0:\n",
    "    print(num, \"is a positive number.\")\n",
    "print(\"This is also always printed.\")"
   ]
  },
  {
   "cell_type": "code",
   "execution_count": 3,
   "metadata": {},
   "outputs": [],
   "source": [
    "#Ex1)\n",
    "num1 = 11\n",
    "num2 = 10\n",
    "\n",
    "if(num1 == num2):\n",
    "    print(\"Both the numbers are same\")"
   ]
  },
  {
   "cell_type": "code",
   "execution_count": 4,
   "metadata": {},
   "outputs": [
    {
     "name": "stdout",
     "output_type": "stream",
     "text": [
      "Numbers are diff\n"
     ]
    }
   ],
   "source": [
    "#Ex2)\n",
    "num1 = 11\n",
    "num2 = 10\n",
    "if(num1 != num2):\n",
    "    print(\"Numbers are diff\")"
   ]
  },
  {
   "cell_type": "code",
   "execution_count": 5,
   "metadata": {},
   "outputs": [
    {
     "ename": "IndentationError",
     "evalue": "unindent does not match any outer indentation level (<tokenize>, line 6)",
     "output_type": "error",
     "traceback": [
      "\u001b[1;36m  File \u001b[1;32m\"<tokenize>\"\u001b[1;36m, line \u001b[1;32m6\u001b[0m\n\u001b[1;33m    print(\"u\")\u001b[0m\n\u001b[1;37m    ^\u001b[0m\n\u001b[1;31mIndentationError\u001b[0m\u001b[1;31m:\u001b[0m unindent does not match any outer indentation level\n"
     ]
    }
   ],
   "source": [
    "# if we do not use indentation \n",
    "if(4>2):\n",
    "    print(\"A\") #ERROR\n",
    "    if(3>1):\n",
    "                print(\"fuck u \")\n",
    "                print(\"u\")"
   ]
  },
  {
   "cell_type": "markdown",
   "metadata": {},
   "source": [
    "# if else"
   ]
  },
  {
   "cell_type": "code",
   "execution_count": null,
   "metadata": {},
   "outputs": [],
   "source": [
    "#if  ..if.. condition is not true ..else.. will be executed "
   ]
  },
  {
   "cell_type": "code",
   "execution_count": null,
   "metadata": {},
   "outputs": [],
   "source": [
    "\"\"\"\n",
    "syntax of if else\n",
    "\n",
    "if(condition/s):\n",
    "    statement1\n",
    "    statement2\n",
    "    ..........\n",
    "else:\n",
    "    statement1\n",
    "    statement2\n",
    "    ..........\n",
    "\"\"\"  "
   ]
  },
  {
   "cell_type": "code",
   "execution_count": 8,
   "metadata": {},
   "outputs": [
    {
     "name": "stdout",
     "output_type": "stream",
     "text": [
      "Enter a number to check weather it is greater than 15 :16\n",
      "16 is greater than 15\n"
     ]
    }
   ],
   "source": [
    "a = int(input('Enter a number to check weather it is greater than 15 :' ))\n",
    "\n",
    "if a > 15 : \n",
    "    print(a ,'is greater than 15')\n",
    "    \n",
    "else:\n",
    "    print(a ,'is not greater than 15') "
   ]
  },
  {
   "cell_type": "markdown",
   "metadata": {},
   "source": [
    "# if elif else "
   ]
  },
  {
   "cell_type": "code",
   "execution_count": null,
   "metadata": {},
   "outputs": [],
   "source": [
    "\"\"\"\n",
    "syntax of if else\n",
    "\n",
    "if(condition/s):\n",
    "    statement1\n",
    "    statement2\n",
    "    ..........\n",
    "elif(condition/s):\n",
    "    statement1\n",
    "    statement2\n",
    "    ..........\n",
    "else:\n",
    "    statement1\n",
    "    statement2\n",
    "    ..........\n",
    "\"\"\""
   ]
  },
  {
   "cell_type": "code",
   "execution_count": 10,
   "metadata": {},
   "outputs": [
    {
     "name": "stdout",
     "output_type": "stream",
     "text": [
      "enter two numbers to compare them with eachother\n",
      "Enter first number  :3\n",
      "Enter second number :4\n",
      "3 is less than 4\n"
     ]
    }
   ],
   "source": [
    "#Ex1)\n",
    "print('enter two numbers to compare them with eachother' )\n",
    "\n",
    "x = int(input('Enter first number  :'))\n",
    "y = int(input('Enter second number :'))\n",
    "\n",
    "if(x == y):\n",
    "    print(\"Equal\")\n",
    "elif(x>y):\n",
    "    print(x ,'is greater than', y)\n",
    "    \n",
    "else:\n",
    "    print( x ,'is less than', y)\n"
   ]
  },
  {
   "cell_type": "markdown",
   "metadata": {},
   "source": [
    "# Multiple conditions\n",
    "by using or & and operators"
   ]
  },
  {
   "cell_type": "code",
   "execution_count": 13,
   "metadata": {},
   "outputs": [
    {
     "name": "stdout",
     "output_type": "stream",
     "text": [
      "Satisfied\n"
     ]
    }
   ],
   "source": [
    "#Ex1) or --- if one of any condition is true than it will be true \n",
    "num1 = -9\n",
    "# it should be positive\n",
    "# or it should be divisible by 2\n",
    "# or it should be divisible by 3\n",
    "\n",
    "if(num1>0 or num1%2 == 0 or num1%3 == 0):\n",
    "    print(\"Satisfied\")\n",
    "else:\n",
    "    print(\"Not satisfied\")"
   ]
  },
  {
   "cell_type": "code",
   "execution_count": 14,
   "metadata": {},
   "outputs": [
    {
     "name": "stdout",
     "output_type": "stream",
     "text": [
      "Satisfied\n"
     ]
    }
   ],
   "source": [
    "#Ex2) and ---- all condition needs to be true \n",
    "num1 = 6   #13,9,-9\n",
    "if(num1>0 and num1%2 == 0 and num1%3 == 0):\n",
    "    print(\"Satisfied\")\n",
    "else:\n",
    "    print(\"Not satisfied\")\n"
   ]
  },
  {
   "cell_type": "markdown",
   "metadata": {},
   "source": [
    "# Nested if else"
   ]
  },
  {
   "cell_type": "code",
   "execution_count": 16,
   "metadata": {},
   "outputs": [
    {
     "name": "stdout",
     "output_type": "stream",
     "text": [
      "Enter first number: 4\n",
      "Enter second number: 5\n",
      "press 1 for addition,2 for subtraction,3 for multiplication and 4 for division: 8\n",
      "You have entered: 8\n",
      "something went wrong\n"
     ]
    }
   ],
   "source": [
    "num1 = int(input('Enter first number: '))\n",
    "num2 = int(input('Enter second number: '))\n",
    "a = int(input('press 1 for addition,2 for subtraction,3 for multiplication and 4 for division: '))\n",
    "\n",
    "print ('You have entered:', a )\n",
    "\n",
    "if a==1:\n",
    "    print('addition of both number is' , num1+num2 )\n",
    "    if a==2:\n",
    "        print('subtraction is' , num1-num2 )\n",
    "    elif a==3:\n",
    "        print('multiplication of both number is' , num1*num2 )\n",
    "    elif a==4:\n",
    "        print('division is' , num1/num2 )\n",
    "\n",
    "else:\n",
    "    print('something went wrong')"
   ]
  },
  {
   "cell_type": "code",
   "execution_count": null,
   "metadata": {},
   "outputs": [],
   "source": []
  }
 ],
 "metadata": {
  "kernelspec": {
   "display_name": "Python 3",
   "language": "python",
   "name": "python3"
  },
  "language_info": {
   "codemirror_mode": {
    "name": "ipython",
    "version": 3
   },
   "file_extension": ".py",
   "mimetype": "text/x-python",
   "name": "python",
   "nbconvert_exporter": "python",
   "pygments_lexer": "ipython3",
   "version": "3.8.3"
  }
 },
 "nbformat": 4,
 "nbformat_minor": 4
}
